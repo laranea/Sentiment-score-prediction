{
 "cells": [
  {
   "cell_type": "code",
   "execution_count": 1,
   "metadata": {},
   "outputs": [],
   "source": [
    "import re\n",
    "import pandas as pd\n",
    "pd.set_option(\"display.max_colwidth\", 200)\n",
    "import numpy as np\n",
    "import matplotlib.pyplot as plt\n",
    "import seaborn as sns\n",
    "import string\n",
    "import nltk\n",
    "from nltk import word_tokenize\n",
    "from nltk.stem import PorterStemmer\n",
    "from nltk.corpus import stopwords\n",
    "from nltk.tokenize.treebank import TreebankWordDetokenizer\n",
    "from wordcloud import WordCloud\n",
    "import warnings\n",
    "warnings.filterwarnings(\"ignore\", category=DeprecationWarning)\n",
    "get_ipython().magic('matplotlib inline')"
   ]
  },
  {
   "cell_type": "code",
   "execution_count": 2,
   "metadata": {},
   "outputs": [
    {
     "data": {
      "text/html": [
       "<div>\n",
       "<style scoped>\n",
       "    .dataframe tbody tr th:only-of-type {\n",
       "        vertical-align: middle;\n",
       "    }\n",
       "\n",
       "    .dataframe tbody tr th {\n",
       "        vertical-align: top;\n",
       "    }\n",
       "\n",
       "    .dataframe thead th {\n",
       "        text-align: right;\n",
       "    }\n",
       "</style>\n",
       "<table border=\"1\" class=\"dataframe\">\n",
       "  <thead>\n",
       "    <tr style=\"text-align: right;\">\n",
       "      <th></th>\n",
       "      <th>Title</th>\n",
       "      <th>Headline</th>\n",
       "      <th>SentimentTitle</th>\n",
       "      <th>SentimentHeadline</th>\n",
       "    </tr>\n",
       "  </thead>\n",
       "  <tbody>\n",
       "    <tr>\n",
       "      <th>0</th>\n",
       "      <td>Obama Lays Wreath at Arlington National Cemetery</td>\n",
       "      <td>Obama Lays Wreath at Arlington National Cemetery. President Barack Obama has laid a wreath at the Tomb of the Unknowns to honor</td>\n",
       "      <td>0.000000</td>\n",
       "      <td>-0.053300</td>\n",
       "    </tr>\n",
       "    <tr>\n",
       "      <th>1</th>\n",
       "      <td>A Look at the Health of the Chinese Economy</td>\n",
       "      <td>Tim Haywood, investment director business-unit head for fixed income at Gam, discusses the China beige book and the state of the economy.</td>\n",
       "      <td>0.208333</td>\n",
       "      <td>-0.156386</td>\n",
       "    </tr>\n",
       "    <tr>\n",
       "      <th>2</th>\n",
       "      <td>Nouriel Roubini: Global Economy Not Back to 2008</td>\n",
       "      <td>Nouriel Roubini, NYU professor and chairman at Roubini Global Economics, explains why the global economy isn't facing the same conditions</td>\n",
       "      <td>-0.425210</td>\n",
       "      <td>0.139754</td>\n",
       "    </tr>\n",
       "    <tr>\n",
       "      <th>3</th>\n",
       "      <td>Finland GDP Expands In Q4</td>\n",
       "      <td>Finland's economy expanded marginally in the three months ended December, after contracting in the previous quarter, preliminary figures from Statistics Finland showed Monday.</td>\n",
       "      <td>0.000000</td>\n",
       "      <td>0.026064</td>\n",
       "    </tr>\n",
       "    <tr>\n",
       "      <th>4</th>\n",
       "      <td>Tourism, govt spending buoys Thai economy in January</td>\n",
       "      <td>Tourism and public spending continued to boost the economy in January, in light of contraction in private consumption and exports, according to the Bank of Thailand data.</td>\n",
       "      <td>0.000000</td>\n",
       "      <td>0.141084</td>\n",
       "    </tr>\n",
       "  </tbody>\n",
       "</table>\n",
       "</div>"
      ],
      "text/plain": [
       "                                                  Title  \\\n",
       "0      Obama Lays Wreath at Arlington National Cemetery   \n",
       "1           A Look at the Health of the Chinese Economy   \n",
       "2      Nouriel Roubini: Global Economy Not Back to 2008   \n",
       "3                             Finland GDP Expands In Q4   \n",
       "4  Tourism, govt spending buoys Thai economy in January   \n",
       "\n",
       "                                                                                                                                                                           Headline  \\\n",
       "0                                                   Obama Lays Wreath at Arlington National Cemetery. President Barack Obama has laid a wreath at the Tomb of the Unknowns to honor   \n",
       "1                                         Tim Haywood, investment director business-unit head for fixed income at Gam, discusses the China beige book and the state of the economy.   \n",
       "2                                         Nouriel Roubini, NYU professor and chairman at Roubini Global Economics, explains why the global economy isn't facing the same conditions   \n",
       "3  Finland's economy expanded marginally in the three months ended December, after contracting in the previous quarter, preliminary figures from Statistics Finland showed Monday.    \n",
       "4       Tourism and public spending continued to boost the economy in January, in light of contraction in private consumption and exports, according to the Bank of Thailand data.    \n",
       "\n",
       "   SentimentTitle  SentimentHeadline  \n",
       "0        0.000000          -0.053300  \n",
       "1        0.208333          -0.156386  \n",
       "2       -0.425210           0.139754  \n",
       "3        0.000000           0.026064  \n",
       "4        0.000000           0.141084  "
      ]
     },
     "execution_count": 2,
     "metadata": {},
     "output_type": "execute_result"
    }
   ],
   "source": [
    "train = pd.read_csv(\"train_file.csv\")\n",
    "train = train.drop(['IDLink', 'Source', 'PublishDate', 'Topic', 'Facebook', 'GooglePlus', 'LinkedIn'], axis=1)\n",
    "train.head()"
   ]
  },
  {
   "cell_type": "code",
   "execution_count": 3,
   "metadata": {},
   "outputs": [
    {
     "data": {
      "text/html": [
       "<div>\n",
       "<style scoped>\n",
       "    .dataframe tbody tr th:only-of-type {\n",
       "        vertical-align: middle;\n",
       "    }\n",
       "\n",
       "    .dataframe tbody tr th {\n",
       "        vertical-align: top;\n",
       "    }\n",
       "\n",
       "    .dataframe thead th {\n",
       "        text-align: right;\n",
       "    }\n",
       "</style>\n",
       "<table border=\"1\" class=\"dataframe\">\n",
       "  <thead>\n",
       "    <tr style=\"text-align: right;\">\n",
       "      <th></th>\n",
       "      <th>IDLink</th>\n",
       "      <th>Title</th>\n",
       "      <th>Headline</th>\n",
       "    </tr>\n",
       "  </thead>\n",
       "  <tbody>\n",
       "    <tr>\n",
       "      <th>0</th>\n",
       "      <td>tFrqIR6Chj</td>\n",
       "      <td>Sliding Economy: FG fights back with N3trn TSA funds</td>\n",
       "      <td>With the 2016 budget now passed by the National Assembly and a N3trillion war chest, the government of President Muhammadu Buhari says</td>\n",
       "    </tr>\n",
       "    <tr>\n",
       "      <th>1</th>\n",
       "      <td>DVAaGErjlF</td>\n",
       "      <td>Microsoft shows how HoloLens can bring distant family members ...</td>\n",
       "      <td>A recent Microsoft Research video shows how the $3000 augmented reality system can be used to transmit 3D models of people anywhere in</td>\n",
       "    </tr>\n",
       "    <tr>\n",
       "      <th>2</th>\n",
       "      <td>OT9UIZm5M2</td>\n",
       "      <td>Microsoft’s Twitter Robot Praises Hitler, Trump &amp; Recites Racism</td>\n",
       "      <td>* Microsoft teamed with Bing to create TayTweets, an account for a robot that was designed to learn about “conversational understanding,” by having automated discussions with Twitter users, and mi...</td>\n",
       "    </tr>\n",
       "    <tr>\n",
       "      <th>3</th>\n",
       "      <td>lflGp3q2Fj</td>\n",
       "      <td>Flood of Central Bank Moves Can't Get World Economy Out of Rut</td>\n",
       "      <td>Central bankers have managed to steer the world economy clear of a recession while leaving it stuck in the same rut that led to its troubles in the first place.</td>\n",
       "    </tr>\n",
       "    <tr>\n",
       "      <th>4</th>\n",
       "      <td>zDYG0SoovZ</td>\n",
       "      <td>USD/JPY: bears lining up on mixed U.S. economy outlook</td>\n",
       "      <td>However, this streak of seven-day gains might end here as markets take a step back and ponder in respect of the US economy and its inflation</td>\n",
       "    </tr>\n",
       "  </tbody>\n",
       "</table>\n",
       "</div>"
      ],
      "text/plain": [
       "       IDLink  \\\n",
       "0  tFrqIR6Chj   \n",
       "1  DVAaGErjlF   \n",
       "2  OT9UIZm5M2   \n",
       "3  lflGp3q2Fj   \n",
       "4  zDYG0SoovZ   \n",
       "\n",
       "                                                               Title  \\\n",
       "0               Sliding Economy: FG fights back with N3trn TSA funds   \n",
       "1  Microsoft shows how HoloLens can bring distant family members ...   \n",
       "2   Microsoft’s Twitter Robot Praises Hitler, Trump & Recites Racism   \n",
       "3     Flood of Central Bank Moves Can't Get World Economy Out of Rut   \n",
       "4             USD/JPY: bears lining up on mixed U.S. economy outlook   \n",
       "\n",
       "                                                                                                                                                                                                  Headline  \n",
       "0                                                                   With the 2016 budget now passed by the National Assembly and a N3trillion war chest, the government of President Muhammadu Buhari says  \n",
       "1                                                                   A recent Microsoft Research video shows how the $3000 augmented reality system can be used to transmit 3D models of people anywhere in  \n",
       "2  * Microsoft teamed with Bing to create TayTweets, an account for a robot that was designed to learn about “conversational understanding,” by having automated discussions with Twitter users, and mi...  \n",
       "3                                        Central bankers have managed to steer the world economy clear of a recession while leaving it stuck in the same rut that led to its troubles in the first place.   \n",
       "4                                                             However, this streak of seven-day gains might end here as markets take a step back and ponder in respect of the US economy and its inflation  "
      ]
     },
     "execution_count": 3,
     "metadata": {},
     "output_type": "execute_result"
    }
   ],
   "source": [
    "test = pd.read_csv(\"test_file.csv\")\n",
    "test = test.drop(['Source', 'PublishDate', 'Topic', 'Facebook', 'GooglePlus', 'LinkedIn'], axis=1)\n",
    "test.head()"
   ]
  },
  {
   "cell_type": "code",
   "execution_count": 4,
   "metadata": {},
   "outputs": [
    {
     "data": {
      "text/plain": [
       "((55932, 4), (37288, 3))"
      ]
     },
     "execution_count": 4,
     "metadata": {},
     "output_type": "execute_result"
    }
   ],
   "source": [
    "train.shape, test.shape"
   ]
  },
  {
   "cell_type": "code",
   "execution_count": 5,
   "metadata": {},
   "outputs": [
    {
     "data": {
      "text/html": [
       "<div>\n",
       "<style scoped>\n",
       "    .dataframe tbody tr th:only-of-type {\n",
       "        vertical-align: middle;\n",
       "    }\n",
       "\n",
       "    .dataframe tbody tr th {\n",
       "        vertical-align: top;\n",
       "    }\n",
       "\n",
       "    .dataframe thead th {\n",
       "        text-align: right;\n",
       "    }\n",
       "</style>\n",
       "<table border=\"1\" class=\"dataframe\">\n",
       "  <thead>\n",
       "    <tr style=\"text-align: right;\">\n",
       "      <th></th>\n",
       "      <th>result</th>\n",
       "    </tr>\n",
       "  </thead>\n",
       "  <tbody>\n",
       "    <tr>\n",
       "      <th>0</th>\n",
       "      <td>[obama, lay, wreath, arlington, national, cemetery]</td>\n",
       "    </tr>\n",
       "    <tr>\n",
       "      <th>1</th>\n",
       "      <td>[look, health, chinese, economy]</td>\n",
       "    </tr>\n",
       "    <tr>\n",
       "      <th>2</th>\n",
       "      <td>[nouriel, roubini, global, economy, back]</td>\n",
       "    </tr>\n",
       "    <tr>\n",
       "      <th>3</th>\n",
       "      <td>[finland, gdp, expands]</td>\n",
       "    </tr>\n",
       "    <tr>\n",
       "      <th>4</th>\n",
       "      <td>[tourism, govt, spending, buoy, thai, economy, january]</td>\n",
       "    </tr>\n",
       "  </tbody>\n",
       "</table>\n",
       "</div>"
      ],
      "text/plain": [
       "                                                    result\n",
       "0      [obama, lay, wreath, arlington, national, cemetery]\n",
       "1                         [look, health, chinese, economy]\n",
       "2                [nouriel, roubini, global, economy, back]\n",
       "3                                  [finland, gdp, expands]\n",
       "4  [tourism, govt, spending, buoy, thai, economy, january]"
      ]
     },
     "execution_count": 5,
     "metadata": {},
     "output_type": "execute_result"
    }
   ],
   "source": [
    "from textblob import Word\n",
    "stop_words = set(stopwords.words('english'))\n",
    "result = []\n",
    "title = pd.DataFrame()\n",
    "for s in train['Title'].values:\n",
    "    tokens = word_tokenize(s)\n",
    "    tokens = [w.lower() for w in tokens]\n",
    "    table = str.maketrans('', '', string.punctuation)\n",
    "    stripped = [w.translate(table) for w in tokens]\n",
    "    words = [word for word in stripped if word.isalpha()]\n",
    "    stemmed = [Word(word).lemmatize() for word in words]\n",
    "    result.append([i for i in stemmed if not i in stop_words])\n",
    "title['result'] = result\n",
    "title = pd.DataFrame(title)\n",
    "title.head()"
   ]
  },
  {
   "cell_type": "code",
   "execution_count": 6,
   "metadata": {},
   "outputs": [
    {
     "data": {
      "text/html": [
       "<div>\n",
       "<style scoped>\n",
       "    .dataframe tbody tr th:only-of-type {\n",
       "        vertical-align: middle;\n",
       "    }\n",
       "\n",
       "    .dataframe tbody tr th {\n",
       "        vertical-align: top;\n",
       "    }\n",
       "\n",
       "    .dataframe thead th {\n",
       "        text-align: right;\n",
       "    }\n",
       "</style>\n",
       "<table border=\"1\" class=\"dataframe\">\n",
       "  <thead>\n",
       "    <tr style=\"text-align: right;\">\n",
       "      <th></th>\n",
       "      <th>result</th>\n",
       "    </tr>\n",
       "  </thead>\n",
       "  <tbody>\n",
       "    <tr>\n",
       "      <th>0</th>\n",
       "      <td>[obama, lay, wreath, arlington, national, cemetery, president, barack, obama, ha, laid, wreath, tomb, unknown, honor]</td>\n",
       "    </tr>\n",
       "    <tr>\n",
       "      <th>1</th>\n",
       "      <td>[tim, haywood, investment, director, businessunit, head, fixed, income, gam, discus, china, beige, book, state, economy]</td>\n",
       "    </tr>\n",
       "    <tr>\n",
       "      <th>2</th>\n",
       "      <td>[nouriel, roubini, nyu, professor, chairman, roubini, global, economics, explains, global, economy, nt, facing, condition]</td>\n",
       "    </tr>\n",
       "    <tr>\n",
       "      <th>3</th>\n",
       "      <td>[finland, economy, expanded, marginally, three, month, ended, december, contracting, previous, quarter, preliminary, figure, statistic, finland, showed, monday]</td>\n",
       "    </tr>\n",
       "    <tr>\n",
       "      <th>4</th>\n",
       "      <td>[tourism, public, spending, continued, boost, economy, january, light, contraction, private, consumption, export, according, bank, thailand, data]</td>\n",
       "    </tr>\n",
       "  </tbody>\n",
       "</table>\n",
       "</div>"
      ],
      "text/plain": [
       "                                                                                                                                                             result\n",
       "0                                             [obama, lay, wreath, arlington, national, cemetery, president, barack, obama, ha, laid, wreath, tomb, unknown, honor]\n",
       "1                                          [tim, haywood, investment, director, businessunit, head, fixed, income, gam, discus, china, beige, book, state, economy]\n",
       "2                                        [nouriel, roubini, nyu, professor, chairman, roubini, global, economics, explains, global, economy, nt, facing, condition]\n",
       "3  [finland, economy, expanded, marginally, three, month, ended, december, contracting, previous, quarter, preliminary, figure, statistic, finland, showed, monday]\n",
       "4                [tourism, public, spending, continued, boost, economy, january, light, contraction, private, consumption, export, according, bank, thailand, data]"
      ]
     },
     "execution_count": 6,
     "metadata": {},
     "output_type": "execute_result"
    }
   ],
   "source": [
    "stop_words = set(stopwords.words('english'))\n",
    "result1 = []\n",
    "headline = pd.DataFrame()\n",
    "for s in train['Headline'].values:\n",
    "    tokens = word_tokenize(s)\n",
    "    tokens = [w.lower() for w in tokens]\n",
    "    table = str.maketrans('', '', string.punctuation)\n",
    "    stripped = [w.translate(table) for w in tokens]\n",
    "    words = [word for word in stripped if word.isalpha()]\n",
    "    stemmed = [Word(word).lemmatize() for word in words]\n",
    "    result1.append([i for i in stemmed if not i in stop_words])\n",
    "headline['result'] = result1\n",
    "headline = pd.DataFrame(headline)\n",
    "headline.head()"
   ]
  },
  {
   "cell_type": "code",
   "execution_count": 7,
   "metadata": {},
   "outputs": [
    {
     "data": {
      "text/html": [
       "<div>\n",
       "<style scoped>\n",
       "    .dataframe tbody tr th:only-of-type {\n",
       "        vertical-align: middle;\n",
       "    }\n",
       "\n",
       "    .dataframe tbody tr th {\n",
       "        vertical-align: top;\n",
       "    }\n",
       "\n",
       "    .dataframe thead th {\n",
       "        text-align: right;\n",
       "    }\n",
       "</style>\n",
       "<table border=\"1\" class=\"dataframe\">\n",
       "  <thead>\n",
       "    <tr style=\"text-align: right;\">\n",
       "      <th></th>\n",
       "      <th>result</th>\n",
       "    </tr>\n",
       "  </thead>\n",
       "  <tbody>\n",
       "    <tr>\n",
       "      <th>0</th>\n",
       "      <td>obama lay wreath arlington national cemetery</td>\n",
       "    </tr>\n",
       "    <tr>\n",
       "      <th>1</th>\n",
       "      <td>look health chinese economy</td>\n",
       "    </tr>\n",
       "    <tr>\n",
       "      <th>2</th>\n",
       "      <td>nouriel roubini global economy back</td>\n",
       "    </tr>\n",
       "    <tr>\n",
       "      <th>3</th>\n",
       "      <td>finland gdp expands</td>\n",
       "    </tr>\n",
       "    <tr>\n",
       "      <th>4</th>\n",
       "      <td>tourism govt spending buoy thai economy january</td>\n",
       "    </tr>\n",
       "  </tbody>\n",
       "</table>\n",
       "</div>"
      ],
      "text/plain": [
       "                                            result\n",
       "0     obama lay wreath arlington national cemetery\n",
       "1                      look health chinese economy\n",
       "2              nouriel roubini global economy back\n",
       "3                              finland gdp expands\n",
       "4  tourism govt spending buoy thai economy january"
      ]
     },
     "execution_count": 7,
     "metadata": {},
     "output_type": "execute_result"
    }
   ],
   "source": [
    "for i in range(len(title['result'])):\n",
    "    title['result'][i] = TreebankWordDetokenizer().detokenize(title['result'][i])\n",
    "title['result'] = title\n",
    "title.head()"
   ]
  },
  {
   "cell_type": "code",
   "execution_count": 8,
   "metadata": {},
   "outputs": [
    {
     "data": {
      "text/html": [
       "<div>\n",
       "<style scoped>\n",
       "    .dataframe tbody tr th:only-of-type {\n",
       "        vertical-align: middle;\n",
       "    }\n",
       "\n",
       "    .dataframe tbody tr th {\n",
       "        vertical-align: top;\n",
       "    }\n",
       "\n",
       "    .dataframe thead th {\n",
       "        text-align: right;\n",
       "    }\n",
       "</style>\n",
       "<table border=\"1\" class=\"dataframe\">\n",
       "  <thead>\n",
       "    <tr style=\"text-align: right;\">\n",
       "      <th></th>\n",
       "      <th>result</th>\n",
       "    </tr>\n",
       "  </thead>\n",
       "  <tbody>\n",
       "    <tr>\n",
       "      <th>0</th>\n",
       "      <td>obama lay wreath arlington national cemetery president barack obama ha laid wreath tomb unknown honor</td>\n",
       "    </tr>\n",
       "    <tr>\n",
       "      <th>1</th>\n",
       "      <td>tim haywood investment director businessunit head fixed income gam discus china beige book state economy</td>\n",
       "    </tr>\n",
       "    <tr>\n",
       "      <th>2</th>\n",
       "      <td>nouriel roubini nyu professor chairman roubini global economics explains global economy nt facing condition</td>\n",
       "    </tr>\n",
       "    <tr>\n",
       "      <th>3</th>\n",
       "      <td>finland economy expanded marginally three month ended december contracting previous quarter preliminary figure statistic finland showed monday</td>\n",
       "    </tr>\n",
       "    <tr>\n",
       "      <th>4</th>\n",
       "      <td>tourism public spending continued boost economy january light contraction private consumption export according bank thailand data</td>\n",
       "    </tr>\n",
       "  </tbody>\n",
       "</table>\n",
       "</div>"
      ],
      "text/plain": [
       "                                                                                                                                           result\n",
       "0                                           obama lay wreath arlington national cemetery president barack obama ha laid wreath tomb unknown honor\n",
       "1                                        tim haywood investment director businessunit head fixed income gam discus china beige book state economy\n",
       "2                                     nouriel roubini nyu professor chairman roubini global economics explains global economy nt facing condition\n",
       "3  finland economy expanded marginally three month ended december contracting previous quarter preliminary figure statistic finland showed monday\n",
       "4               tourism public spending continued boost economy january light contraction private consumption export according bank thailand data"
      ]
     },
     "execution_count": 8,
     "metadata": {},
     "output_type": "execute_result"
    }
   ],
   "source": [
    "for i in range(len(headline['result'])):\n",
    "    headline['result'][i] = TreebankWordDetokenizer().detokenize(headline['result'][i])\n",
    "headline['result'] = headline\n",
    "headline.head()"
   ]
  },
  {
   "cell_type": "code",
   "execution_count": 9,
   "metadata": {},
   "outputs": [
    {
     "data": {
      "text/plain": [
       "(55932, 2000)"
      ]
     },
     "execution_count": 9,
     "metadata": {},
     "output_type": "execute_result"
    }
   ],
   "source": [
    "from sklearn.feature_extraction.text import TfidfVectorizer  \n",
    "tfidfconverter = TfidfVectorizer(max_features=2000, min_df=5, max_df=0.7, stop_words=stopwords.words('english'))  \n",
    "X = tfidfconverter.fit_transform(title['result']).toarray()\n",
    "X.shape"
   ]
  },
  {
   "cell_type": "code",
   "execution_count": 10,
   "metadata": {},
   "outputs": [
    {
     "data": {
      "text/plain": [
       "(55932, 2000)"
      ]
     },
     "execution_count": 10,
     "metadata": {},
     "output_type": "execute_result"
    }
   ],
   "source": [
    "X1 = tfidfconverter.fit_transform(headline['result']).toarray()\n",
    "X1.shape"
   ]
  },
  {
   "cell_type": "code",
   "execution_count": 12,
   "metadata": {},
   "outputs": [],
   "source": [
    "import xgboost as xgb\n",
    "from sklearn.model_selection import train_test_split"
   ]
  },
  {
   "cell_type": "code",
   "execution_count": 13,
   "metadata": {},
   "outputs": [],
   "source": [
    "train_tf = X[:55932,:]\n",
    "test_tf = X[55932:,:]\n",
    "# splitting data into training and validation set\n",
    "xtrain_tf, xvalid_tf, ytrain, yvalid = train_test_split(train_tf, train['SentimentTitle'],\n",
    "                                                          random_state=42,\n",
    "                                                          test_size=0.2)"
   ]
  },
  {
   "cell_type": "code",
   "execution_count": 14,
   "metadata": {},
   "outputs": [],
   "source": [
    "train_tf1 = X1[:55932,:]\n",
    "test_tf1 = X1[55932:,:]\n",
    "# splitting data into training and validation set\n",
    "xtrain_tf1, xvalid_tf1, ytrain1, yvalid1 = train_test_split(train_tf1, train['SentimentHeadline'],\n",
    "                                                          random_state=42,\n",
    "                                                          test_size=0.2)"
   ]
  },
  {
   "cell_type": "code",
   "execution_count": 16,
   "metadata": {},
   "outputs": [],
   "source": [
    "model = xgb.XGBRegressor()\n",
    "xgb_model = model.fit(xtrain_tf, ytrain)\n",
    "prediction = xgb_model.predict(xvalid_tf)"
   ]
  },
  {
   "cell_type": "code",
   "execution_count": 17,
   "metadata": {},
   "outputs": [],
   "source": [
    "xgb_model1 = model.fit(xtrain_tf1, ytrain1)\n",
    "prediction1 = xgb_model1.predict(xvalid_tf1)"
   ]
  },
  {
   "cell_type": "code",
   "execution_count": 18,
   "metadata": {},
   "outputs": [
    {
     "name": "stdout",
     "output_type": "stream",
     "text": [
      "Mean Absolute Error: 0.08584040887421067\n",
      "Mean Squared Error: 0.014278428574043607\n",
      "Root Mean Squared Error: 0.11949237872786535\n"
     ]
    }
   ],
   "source": [
    "from sklearn import metrics\n",
    "print('Mean Absolute Error:', metrics.mean_absolute_error(yvalid, prediction))\n",
    "print('Mean Squared Error:', metrics.mean_squared_error(yvalid, prediction))\n",
    "print('Root Mean Squared Error:', np.sqrt(metrics.mean_squared_error(yvalid, prediction)))"
   ]
  },
  {
   "cell_type": "code",
   "execution_count": 19,
   "metadata": {},
   "outputs": [
    {
     "name": "stdout",
     "output_type": "stream",
     "text": [
      "Mean Absolute Error: 0.09840962721332887\n",
      "Mean Squared Error: 0.016396861444472336\n",
      "Root Mean Squared Error: 0.1280502301617312\n"
     ]
    }
   ],
   "source": [
    "print('Mean Absolute Error:', metrics.mean_absolute_error(yvalid1, prediction1))\n",
    "print('Mean Squared Error:', metrics.mean_squared_error(yvalid1, prediction1))\n",
    "print('Root Mean Squared Error:', np.sqrt(metrics.mean_squared_error(yvalid1, prediction1)))"
   ]
  },
  {
   "cell_type": "code",
   "execution_count": null,
   "metadata": {},
   "outputs": [],
   "source": []
  }
 ],
 "metadata": {
  "kernelspec": {
   "display_name": "Python 3",
   "language": "python",
   "name": "python3"
  },
  "language_info": {
   "codemirror_mode": {
    "name": "ipython",
    "version": 3
   },
   "file_extension": ".py",
   "mimetype": "text/x-python",
   "name": "python",
   "nbconvert_exporter": "python",
   "pygments_lexer": "ipython3",
   "version": "3.6.2"
  }
 },
 "nbformat": 4,
 "nbformat_minor": 2
}
